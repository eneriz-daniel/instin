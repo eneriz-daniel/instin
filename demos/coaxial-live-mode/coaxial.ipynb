{
 "metadata": {
  "language_info": {
   "codemirror_mode": {
    "name": "ipython",
    "version": 3
   },
   "file_extension": ".py",
   "mimetype": "text/x-python",
   "name": "python",
   "nbconvert_exporter": "python",
   "pygments_lexer": "ipython3",
   "version": "3.8.5-final"
  },
  "orig_nbformat": 2,
  "kernelspec": {
   "name": "python3",
   "display_name": "Python 3",
   "language": "python"
  }
 },
 "nbformat": 4,
 "nbformat_minor": 2,
 "cells": [
  {
   "source": [
    "# Open-circuit track down in a coaxial system\n",
    "\n",
    "## Introduction\n",
    "\n",
    "In this demo we want to spot an open-circuit in a coaxial system as the one in the figure:\n",
    "\n",
    "![Coaxial demo scheme](./coaxial-scheme.png)\n",
    "\n",
    "The four oscilloscopes we aim to control are the Agilent DSOX1102A and the arbitrary function generator is the Tektronix AFG3252.\n",
    "\n",
    "As you can see in the oscilloscopes screen, a backwards signal is expected to appear due to the open circuit, as this means a reflection point with the following reflection coefficent:\n",
    "\n",
    "$\\Gamma = \\frac{Z_L - Z_0}{Z_L + Z_0}$\n",
    "\n",
    "Where $Z_0$ is the characteristic impedance of the wire and $Z_L$ is the load impedante at this end point, in this case $\\infty$. Thus, $\\Gamma = 1$. Additionaly, since $Z_0 = 50\\>Ω$, the resistors placed at the end of each branch avoid the emergence of other backwards signals.\n",
    "\n",
    "So, we are measuring the time delay between the forwards and the backwards pulse in each oscilloscope and then we will find the location of the short circuit.\n",
    "\n",
    "> If you are using this code in your own system, you will have to change the VISA addresses and maybe the IPs. Also if the instrumentation is not the same the SCPI commands used here propably won`t work with yours. Try to find them in the instrument documentation.\n",
    "\n",
    "## First steps\n",
    "\n",
    "Firstly, we need the gateways' IP and communication port and the instruments VISA addresses"
   ],
   "cell_type": "markdown",
   "metadata": {}
  },
  {
   "cell_type": "code",
   "execution_count": 7,
   "metadata": {},
   "outputs": [],
   "source": [
    "IP1 = '192.168.1.11'; port1 = 50001\n",
    "IP2 = '192.168.1.12'; port2 = 50002\n",
    "IP3 = '192.168.1.13'; port3 = 50003\n",
    "IP4 = '192.168.1.14'; port4 = 50004\n",
    "\n",
    "AFG = 'USB0::0x0699::0x0345::C022028::INSTR' #This is attached to the first gateway\n",
    "#Each osc is connected to the gateway of its number\n",
    "osc1 = 'USB0::0x2A8D::0x1797::CN58446436::INSTR'\n",
    "osc2 = 'USB0::0x2A8D::0x1797::CN58446449::INSTR'\n",
    "osc3 = 'USB0::0x2A8D::0x1797::CN58446453::INSTR'\n",
    "osc4 = 'USB0::0x2A8D::0x1797::CN59176280::INSTR'\n",
    "\n",
    "IPs = [IP1, IP2, IP3, IP4]\n",
    "ports = [port1, port2, port3, port4]\n",
    "oscs = [osc1, osc2, osc3, osc4]"
   ]
  },
  {
   "source": [
    "Also, the IPs, the ports and the oscilloscopes are listed, to simplify the code.\n",
    "\n",
    "To control the instrumentation we are using `instin`, our wireless instrumentation control Python package. Also the `time` is needed to synchornize with the gateways."
   ],
   "cell_type": "markdown",
   "metadata": {}
  },
  {
   "cell_type": "code",
   "execution_count": 2,
   "metadata": {},
   "outputs": [],
   "source": [
    "#import instin\n",
    "import time\n",
    "import numpy as np"
   ]
  },
  {
   "source": [
    "The first thing to do with the gateways is to synchronize them. This is easy using the `sicro` function of `instin`"
   ],
   "cell_type": "markdown",
   "metadata": {}
  },
  {
   "cell_type": "code",
   "execution_count": 3,
   "metadata": {},
   "outputs": [
    {
     "output_type": "stream",
     "name": "stdout",
     "text": [
      "PC time: Wed Jan 20 10:45:09 2021\n"
     ]
    }
   ],
   "source": [
    "print('PC time: ' + time.ctime(time.time()))"
   ]
  },
  {
   "cell_type": "code",
   "execution_count": 4,
   "metadata": {},
   "outputs": [],
   "source": [
    "instin.sincro(IP1, port1)"
   ]
  },
  {
   "cell_type": "code",
   "execution_count": 5,
   "metadata": {},
   "outputs": [],
   "source": [
    "instin.sincro(IP2, port2)"
   ]
  },
  {
   "cell_type": "code",
   "execution_count": 6,
   "metadata": {},
   "outputs": [],
   "source": [
    "instin.sincro(IP3, port3)"
   ]
  },
  {
   "cell_type": "code",
   "execution_count": 7,
   "metadata": {},
   "outputs": [],
   "source": [
    "instin.sincro(IP4, port4)"
   ]
  },
  {
   "source": [
    "Now instruments can be opened"
   ],
   "cell_type": "markdown",
   "metadata": {}
  },
  {
   "cell_type": "code",
   "execution_count": 8,
   "metadata": {},
   "outputs": [
    {
     "output_type": "stream",
     "name": "stdout",
     "text": [
      "Instrument USB0::0x0699::0x0345::C022028::INSTR opened on 192.168.1.11\n",
      "Instrument USB0::0x2A8D::0x1797::CN58446436::INSTR opened on 192.168.1.11\n",
      "Instrument USB0::0x2A8D::0x1797::CN58446449::INSTR opened on 192.168.1.12\n",
      "Instrument USB0::0x2A8D::0x1797::CN58446453::INSTR opened on 192.168.1.13\n",
      "Instrument USB0::0x2A8D::0x1797::CN59176280::INSTR opened on 192.168.1.14\n"
     ]
    }
   ],
   "source": [
    "AFG = int(instin.open_inst(IP1, port1, AFG))\n",
    "\n",
    "for i in range(len(IPs)):\n",
    "    oscs[i] = int(instin.open_inst(IPs[i], ports[i], oscs[i]))"
   ]
  },
  {
   "source": [
    "## Measurement process\n",
    "\n",
    "Starting with the measurement process, the first thing to do is to set the AFG. To clearly see the forwards and backwars signal the best thing to do is to send a ultra sort pulse with a relative low frequency, avoiding the overlap between the backward pulse and the next forward pulse coming from the AFG."
   ],
   "cell_type": "markdown",
   "metadata": {}
  },
  {
   "cell_type": "code",
   "execution_count": 9,
   "metadata": {},
   "outputs": [],
   "source": [
    "freq_ret = '1e6'\n",
    "duty = '10ns'\n",
    "vpp = '1'\n",
    "offset = '500mV'"
   ]
  },
  {
   "source": [
    "Which are easy established with the `write` operation"
   ],
   "cell_type": "markdown",
   "metadata": {}
  },
  {
   "cell_type": "code",
   "execution_count": 10,
   "metadata": {},
   "outputs": [],
   "source": [
    "instin.write(IP1, port1, AFG, 'outp 0')\n",
    "instin.write(IP1, port1, AFG, 'func puls') #Setting the AFG to send pulses\n",
    "instin.write(IP1, port1, AFG, 'freq '+ freq_ret) #With the correct freq\n",
    "instin.write(IP1, port1, AFG, 'volt:ampl '+ vpp + ' vpp') #Setting the signal to be between 0 and 1\n",
    "instin.write(IP1, port1, AFG, 'volt:offs '+ offset)\n",
    "instin.write(IP1, port1, AFG, 'puls:widt '+ duty) #Using the minimum duty-cycle\n",
    "instin.write(IP1, port1, AFG, 'outp 1') #Turning on the output"
   ]
  },
  {
   "source": [
    "The signal in the coaxial cable is ready to be measured, let's set the osciloscopes. First we are using the autoset feature to aproximate to the visualization we want, then the time scale is set to be the same as the pulse and finaly we desplace the time position to de left in other to see both the forward and backward signals\n",
    "\n",
    "This can be done one osciloscope after each other:"
   ],
   "cell_type": "markdown",
   "metadata": {}
  },
  {
   "cell_type": "code",
   "execution_count": 11,
   "metadata": {},
   "outputs": [],
   "source": [
    "for i in range(len(oscs)):\n",
    "    instin.write(IPs[i], ports[i], oscs[i], 'aut')\n",
    "    instin.write(IPs[i], ports[i], oscs[i], 'acq:type aver')\n",
    "    instin.write(IPs[i], ports[i], oscs[i], 'acq:count 128')\n",
    "    instin.write(IPs[i], ports[i], oscs[i], 'tim:scal 20 ns')\n",
    "    instin.write(IPs[i], ports[i], oscs[i], 'tim:pos 60 ns')"
   ]
  },
  {
   "source": [
    "This can cause the oscilloscopes to freeze, due to the time that takes the autoset functionality. \n",
    "\n",
    ">This also happens when the oscilloscope is USB directly controlled, by the way\n",
    "\n",
    "If this occurs, one solution is to send one order after each other, taking advantage of the time delay in the wireless connections."
   ],
   "cell_type": "markdown",
   "metadata": {}
  },
  {
   "cell_type": "code",
   "execution_count": 12,
   "metadata": {},
   "outputs": [],
   "source": [
    "for i in range(len(oscs)): instin.write(IPs[i], ports[i], oscs[i], 'aut')\n",
    "for i in range(len(oscs)): instin.write(IPs[i], ports[i], oscs[i], 'acq:type aver')\n",
    "for i in range(len(oscs)): instin.write(IPs[i], ports[i], oscs[i], 'acq:count 128')\n",
    "for i in range(len(oscs)): instin.write(IPs[i], ports[i], oscs[i], 'tim:scal 20 ns')\n",
    "for i in range(len(oscs)): instin.write(IPs[i], ports[i], oscs[i], 'tim:pos 60 ns')"
   ]
  },
  {
   "source": [
    "Once the AFG and the oscilloscopes are set, the time delay in each oscilloscope can be measured. Since the measurements aviable in this oscilloscope are limited, we need to measure the delay with the `xmax` measure. To measure the backward pulse the time offset is used to hide the first pulse."
   ],
   "cell_type": "markdown",
   "metadata": {}
  },
  {
   "cell_type": "code",
   "execution_count": 13,
   "metadata": {},
   "outputs": [
    {
     "output_type": "stream",
     "name": "stdout",
     "text": [
      "Osc1 delay (s) = 1.1690000000000001e-07\nOsc2 delay (s) = 1.075e-07\nOsc3 delay (s) = 9.910000000000001e-08\nOsc4 delay (s) = 9.87e-08\n"
     ]
    }
   ],
   "source": [
    "t = [0]*len(oscs)\n",
    "\n",
    "for i in range(len(oscs)): \n",
    "    t[i] = float(instin.query(IPs[i], ports[i], oscs[i], 'meas:xmax? chan1'))\n",
    "for i in range(len(oscs)):\n",
    "    for i in range(len(oscs)): instin.write(IPs[i], ports[i], oscs[i], 'tim:pos 140 ns')\n",
    "for i in range(len(oscs)):\n",
    "    t[i] = float(instin.query(IPs[i], ports[i], oscs[i], 'meas:xmax? chan1')) - t[i]\n",
    "\n",
    "for i in range(len(oscs)):\n",
    "    print('Osc{} delay (s) = {}'.format(i+1, t[i]))"
   ]
  },
  {
   "source": [
    "## Open circuit position estimation\n",
    "\n",
    "With these delays, the short circuit position can be estimated. The time delay appearing in the oscilloscopes measuring the branches after the branch with the open circuit is always the same, $\\Delta t = 2\\frac{x_{op}}{v}$, where $x_{op}$ is the lenght from the branch union with the main line (A) and the short circuit. In the other hand, the time delay appearing in the oscilloscopes of the branches before the open-circuit is $\\Delta t = 2\\frac{x_{op} + x_{off}}{v}$, where $x_{off}$ is the distance between the connection point of the branch and A.\n",
    "\n",
    "To estimate the short circuit position, we use the coaxial cable propagtion velocity (previously chracterized), $v = 0.7c$, (where $c$ is the speed of light in the vacuum) to calculate the distance travled by the backwards signal in each osciloscope, that is the position between of the short circuit\n",
    "\n",
    "![Coaxial demo scheme](./coaxial-scheme-estimation.png)"
   ],
   "cell_type": "markdown",
   "metadata": {}
  },
  {
   "cell_type": "code",
   "execution_count": 15,
   "metadata": {},
   "outputs": [],
   "source": [
    "offset_distances = [1.87, 0.91]"
   ]
  },
  {
   "cell_type": "code",
   "execution_count": 16,
   "metadata": {},
   "outputs": [
    {
     "output_type": "stream",
     "name": "stdout",
     "text": [
      "Osc 1 Lenght from A to short circuit (m) = 10.404500000000002\nOsc 2 Lenght from A to short circuit (m) = 10.3775\nOsc 3 Lenght from A to short circuit (m) = 10.4055\nOsc 4 Lenght from A to short circuit (m) = 10.3635\n"
     ]
    }
   ],
   "source": [
    "first_osc_after_open = 3\n",
    "\n",
    "pos = [0]*len(oscs)\n",
    "\n",
    "for i in range(len(oscs)):\n",
    "    if i < first_pos_after_short-1: pos[i] = 0.7*3e8*t[i]/2 - offset_distances[i]\n",
    "    else: pos[i] = 0.7*3e8*t[i]/2\n",
    "    print('Osc {} Lenght from A to short circuit (m) = {}'.format(i+1,pos[i]))"
   ]
  },
  {
   "cell_type": "code",
   "execution_count": 3,
   "metadata": {},
   "outputs": [],
   "source": [
    "pos = np.array(pos)"
   ]
  },
  {
   "cell_type": "code",
   "execution_count": 8,
   "metadata": {},
   "outputs": [
    {
     "output_type": "stream",
     "name": "stdout",
     "text": [
      "10.38775 ± 0.008974791083919721\n"
     ]
    }
   ],
   "source": [
    "print('{} ± {}'.format(pos.mean(), pos.std()/np.sqrt(len(oscs))))"
   ]
  },
  {
   "source": [
    "## Another test: Short circuit spotization\n",
    "\n",
    "In this case we want to measure the location of a short circuirt, in another point of the same coaxial branch. The same steps have to be done."
   ],
   "cell_type": "markdown",
   "metadata": {}
  },
  {
   "cell_type": "code",
   "execution_count": null,
   "metadata": {},
   "outputs": [],
   "source": [
    "for i in range(len(oscs)): instin.write(IPs[i], ports[i], oscs[i], 'aut')\n",
    "for i in range(len(oscs)): instin.write(IPs[i], ports[i], oscs[i], 'acq:type aver')\n",
    "for i in range(len(oscs)): instin.write(IPs[i], ports[i], oscs[i], 'acq:count 128')\n",
    "for i in range(len(oscs)): instin.write(IPs[i], ports[i], oscs[i], 'tim:scal 20 ns')\n",
    "for i in range(len(oscs)): instin.write(IPs[i], ports[i], oscs[i], 'tim:pos 60 ns')"
   ]
  },
  {
   "source": [
    "As the fault is a short circuit, the backwards pulse is a minimum."
   ],
   "cell_type": "markdown",
   "metadata": {}
  },
  {
   "cell_type": "code",
   "execution_count": 18,
   "metadata": {},
   "outputs": [
    {
     "output_type": "stream",
     "name": "stdout",
     "text": [
      "Osc1 delay (s) = 8.97e-08\nOsc2 delay (s) = 8.060000000000001e-08\nOsc3 delay (s) = 7.16e-08\nOsc4 delay (s) = 7.19e-08\n"
     ]
    }
   ],
   "source": [
    "t = [0]*len(oscs)\n",
    "\n",
    "for i in range(len(oscs)): \n",
    "    t[i] = float(instin.query(IPs[i], ports[i], oscs[i], 'meas:xmax? chan1'))\n",
    "for i in range(len(oscs)):\n",
    "    for i in range(len(oscs)): instin.write(IPs[i], ports[i], oscs[i], 'tim:pos 140 ns')\n",
    "for i in range(len(oscs)):\n",
    "    t[i] = float(instin.query(IPs[i], ports[i], oscs[i], 'meas:xmin? chan1')) - t[i]\n",
    "\n",
    "for i in range(len(oscs)):\n",
    "    print('Osc{} delay (s) = {}'.format(i+1, t[i]))"
   ]
  },
  {
   "cell_type": "code",
   "execution_count": 19,
   "metadata": {},
   "outputs": [
    {
     "output_type": "stream",
     "name": "stdout",
     "text": [
      "Osc 1 Lenght from A to short circuit (m) = 7.5485\nOsc 2 Lenght from A to short circuit (m) = 7.553000000000001\nOsc 3 Lenght from A to short circuit (m) = 7.518000000000001\nOsc 4 Lenght from A to short circuit (m) = 7.5495\n"
     ]
    }
   ],
   "source": [
    "first_pos_after_short = 3\n",
    "\n",
    "pos = [0]*len(oscs)\n",
    "\n",
    "for i in range(len(oscs)):\n",
    "    if i < first_pos_after_short-1: pos[i] = 0.7*3e8*t[i]/2 - offset_distances[i]\n",
    "    else: pos[i] = 0.7*3e8*t[i]/2\n",
    "    print('Osc {} Lenght from A to short circuit (m) = {}'.format(i+1,pos[i]))"
   ]
  },
  {
   "cell_type": "code",
   "execution_count": 9,
   "metadata": {},
   "outputs": [],
   "source": [
    "pos = np.array(pos)"
   ]
  },
  {
   "cell_type": "code",
   "execution_count": 10,
   "metadata": {},
   "outputs": [
    {
     "output_type": "stream",
     "name": "stdout",
     "text": [
      "7.542250000000001 ± 0.007050044326101713\n"
     ]
    }
   ],
   "source": [
    "print('{} ± {}'.format(pos.mean(), pos.std()/np.sqrt(len(oscs))))"
   ]
  },
  {
   "source": [
    "As the measurment has finished, the gateways can be closed"
   ],
   "cell_type": "markdown",
   "metadata": {}
  },
  {
   "cell_type": "code",
   "execution_count": null,
   "metadata": {},
   "outputs": [],
   "source": [
    "for i in range(len(IPs)): insitn.close_term(IPs[i], ports[i])"
   ]
  }
 ]
}